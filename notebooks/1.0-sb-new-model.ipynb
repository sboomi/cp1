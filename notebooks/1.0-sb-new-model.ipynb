{
 "cells": [
  {
   "cell_type": "markdown",
   "id": "lesser-israeli",
   "metadata": {},
   "source": [
    "# First approach\n",
    "\n",
    "A simple unigram model with SVC"
   ]
  },
  {
   "cell_type": "code",
   "execution_count": 1,
   "id": "north-success",
   "metadata": {},
   "outputs": [],
   "source": [
    "import pandas as pd\n",
    "import numpy as np\n",
    "import matplotlib.pyplot as plt\n",
    "from pathlib import Path\n",
    "from joblib import dump, load\n",
    "from sklearn.metrics import confusion_matrix\n",
    "from sklearn.model_selection import cross_val_score\n",
    "import seaborn as sns\n",
    "from wordcloud import WordCloud\n",
    "from nltk.corpus import stopwords\n",
    "import unicodedata\n",
    "import string\n",
    "from nltk.stem.snowball import FrenchStemmer\n"
   ]
  },
  {
   "cell_type": "code",
   "execution_count": 2,
   "id": "expected-strength",
   "metadata": {},
   "outputs": [],
   "source": [
    "CSV_PATH = Path(\"../data/raw/comments_train.csv\")\n",
    "MODEL_PATH = Path(\"../models/sentiment_pipe.joblib\")"
   ]
  },
  {
   "cell_type": "code",
   "execution_count": 3,
   "id": "defensive-water",
   "metadata": {},
   "outputs": [
    {
     "data": {
      "text/plain": [
       "True"
      ]
     },
     "execution_count": 3,
     "metadata": {},
     "output_type": "execute_result"
    }
   ],
   "source": [
    "import dotenv\n",
    "import os\n",
    "\n",
    "dotenv.load_dotenv(dotenv.find_dotenv())"
   ]
  },
  {
   "cell_type": "code",
   "execution_count": 7,
   "id": "brutal-religion",
   "metadata": {},
   "outputs": [
    {
     "data": {
      "text/plain": [
       "True"
      ]
     },
     "execution_count": 7,
     "metadata": {},
     "output_type": "execute_result"
    }
   ],
   "source": [
    "os.environ.get(\"TOKEN\") == \"eyJhbGciOiJIUzI1NiIsInR5cCI6IkpXVCJ9\""
   ]
  },
  {
   "cell_type": "markdown",
   "id": "buried-magic",
   "metadata": {},
   "source": [
    "## Preprocessing"
   ]
  },
  {
   "cell_type": "code",
   "execution_count": 39,
   "id": "bibliographic-potential",
   "metadata": {},
   "outputs": [
    {
     "data": {
      "text/html": [
       "<div>\n",
       "<style scoped>\n",
       "    .dataframe tbody tr th:only-of-type {\n",
       "        vertical-align: middle;\n",
       "    }\n",
       "\n",
       "    .dataframe tbody tr th {\n",
       "        vertical-align: top;\n",
       "    }\n",
       "\n",
       "    .dataframe thead th {\n",
       "        text-align: right;\n",
       "    }\n",
       "</style>\n",
       "<table border=\"1\" class=\"dataframe\">\n",
       "  <thead>\n",
       "    <tr style=\"text-align: right;\">\n",
       "      <th></th>\n",
       "      <th>comment</th>\n",
       "      <th>sentiment</th>\n",
       "    </tr>\n",
       "  </thead>\n",
       "  <tbody>\n",
       "    <tr>\n",
       "      <th>0</th>\n",
       "      <td>J'ai réservé ma table quelques mois à l'avance...</td>\n",
       "      <td>Positive</td>\n",
       "    </tr>\n",
       "    <tr>\n",
       "      <th>1</th>\n",
       "      <td>Que dire... Nicolas sale est un chef d excepti...</td>\n",
       "      <td>Positive</td>\n",
       "    </tr>\n",
       "    <tr>\n",
       "      <th>2</th>\n",
       "      <td>Dans une rue tranquille non loin du Panthéon u...</td>\n",
       "      <td>Positive</td>\n",
       "    </tr>\n",
       "    <tr>\n",
       "      <th>3</th>\n",
       "      <td>Rien à redire le restaurant est irréprochablem...</td>\n",
       "      <td>Positive</td>\n",
       "    </tr>\n",
       "    <tr>\n",
       "      <th>4</th>\n",
       "      <td>Comme avec les autres commentaires nos repas é...</td>\n",
       "      <td>Positive</td>\n",
       "    </tr>\n",
       "  </tbody>\n",
       "</table>\n",
       "</div>"
      ],
      "text/plain": [
       "                                             comment sentiment\n",
       "0  J'ai réservé ma table quelques mois à l'avance...  Positive\n",
       "1  Que dire... Nicolas sale est un chef d excepti...  Positive\n",
       "2  Dans une rue tranquille non loin du Panthéon u...  Positive\n",
       "3  Rien à redire le restaurant est irréprochablem...  Positive\n",
       "4  Comme avec les autres commentaires nos repas é...  Positive"
      ]
     },
     "execution_count": 39,
     "metadata": {},
     "output_type": "execute_result"
    }
   ],
   "source": [
    "df = pd.read_csv(CSV_PATH)\n",
    "df.head(5)"
   ]
  },
  {
   "cell_type": "code",
   "execution_count": 40,
   "id": "closed-outreach",
   "metadata": {
    "scrolled": true
   },
   "outputs": [
    {
     "data": {
      "text/plain": [
       "'j ai reserve ma table quelqu moi a l avance le service etait impeccable pendant tout le processu nou somm arriv a temp et etaient rapidement assi un personnel tr accueillant attention a tou l detail nou avon eu un verre de champagne tandi que nou avon plu'"
      ]
     },
     "execution_count": 40,
     "metadata": {},
     "output_type": "execute_result"
    }
   ],
   "source": [
    "# stemmer = FrenchStemmer()\n",
    "from nltk import stem\n",
    "stemmer = stem.regexp.RegexpStemmer('s$|es$|era$|erez$|ions$| <etc> ')\n",
    "\n",
    "import spacy\n",
    "nlp = spacy.load(\"fr_core_news_sm\")\n",
    "\n",
    "\n",
    "def clean_text(txt):\n",
    "    new_txt = ''.join([c.lower() if c not in string.punctuation else ' ' for c in txt])\n",
    "    new_txt = unicodedata.normalize('NFKD', new_txt).encode('ascii', 'ignore').decode('utf-8', 'ignore')\n",
    "    new_txt = \" \".join([word for word in new_txt.split() if word])\n",
    "    new_txt = ' '.join([stemmer.stem(word) for word in new_txt.split()])\n",
    "#     text = nlp(new_txt)\n",
    "#     text = ' '.join([word.lemma_ if word.lemma_ != '-PRON-' else word.text for word in text])\n",
    "    return new_txt\n",
    "    \n",
    "ex = df.comment[0]\n",
    "clean_text(ex)"
   ]
  },
  {
   "cell_type": "code",
   "execution_count": 41,
   "id": "trained-validity",
   "metadata": {},
   "outputs": [
    {
     "data": {
      "text/html": [
       "<div>\n",
       "<style scoped>\n",
       "    .dataframe tbody tr th:only-of-type {\n",
       "        vertical-align: middle;\n",
       "    }\n",
       "\n",
       "    .dataframe tbody tr th {\n",
       "        vertical-align: top;\n",
       "    }\n",
       "\n",
       "    .dataframe thead th {\n",
       "        text-align: right;\n",
       "    }\n",
       "</style>\n",
       "<table border=\"1\" class=\"dataframe\">\n",
       "  <thead>\n",
       "    <tr style=\"text-align: right;\">\n",
       "      <th></th>\n",
       "      <th>comment</th>\n",
       "      <th>sentiment</th>\n",
       "      <th>clean</th>\n",
       "    </tr>\n",
       "  </thead>\n",
       "  <tbody>\n",
       "    <tr>\n",
       "      <th>0</th>\n",
       "      <td>J'ai réservé ma table quelques mois à l'avance...</td>\n",
       "      <td>Positive</td>\n",
       "      <td>j ai reserve ma table quelqu moi a l avance le...</td>\n",
       "    </tr>\n",
       "    <tr>\n",
       "      <th>1</th>\n",
       "      <td>Que dire... Nicolas sale est un chef d excepti...</td>\n",
       "      <td>Positive</td>\n",
       "      <td>que dire nicola sale est un chef d exception q...</td>\n",
       "    </tr>\n",
       "    <tr>\n",
       "      <th>2</th>\n",
       "      <td>Dans une rue tranquille non loin du Panthéon u...</td>\n",
       "      <td>Positive</td>\n",
       "      <td>dan une rue tranquille non loin du pantheon un...</td>\n",
       "    </tr>\n",
       "    <tr>\n",
       "      <th>3</th>\n",
       "      <td>Rien à redire le restaurant est irréprochablem...</td>\n",
       "      <td>Positive</td>\n",
       "      <td>rien a redire le restaurant est irreprochablem...</td>\n",
       "    </tr>\n",
       "    <tr>\n",
       "      <th>4</th>\n",
       "      <td>Comme avec les autres commentaires nos repas é...</td>\n",
       "      <td>Positive</td>\n",
       "      <td>comme avec l autr commentair no repa etaient i...</td>\n",
       "    </tr>\n",
       "    <tr>\n",
       "      <th>...</th>\n",
       "      <td>...</td>\n",
       "      <td>...</td>\n",
       "      <td>...</td>\n",
       "    </tr>\n",
       "    <tr>\n",
       "      <th>1612</th>\n",
       "      <td>Le service a été rapide et les crêpes très bon...</td>\n",
       "      <td>Positive</td>\n",
       "      <td>le service a ete rapide et l crep tr bonn l pa...</td>\n",
       "    </tr>\n",
       "    <tr>\n",
       "      <th>1613</th>\n",
       "      <td>Restaurant excellent bon rapport qualité-prix ...</td>\n",
       "      <td>Positive</td>\n",
       "      <td>restaurant excellent bon rapport qualite prix ...</td>\n",
       "    </tr>\n",
       "    <tr>\n",
       "      <th>1614</th>\n",
       "      <td>Incroyable mais vrai 190€ la baguette ! Que di...</td>\n",
       "      <td>Negative</td>\n",
       "      <td>incroyable mai vrai 190 la baguette que di je ...</td>\n",
       "    </tr>\n",
       "    <tr>\n",
       "      <th>1615</th>\n",
       "      <td>Un japonais assez chic des beaux quartiers. No...</td>\n",
       "      <td>Positive</td>\n",
       "      <td>un japonai assez chic d beaux quartier nou y s...</td>\n",
       "    </tr>\n",
       "    <tr>\n",
       "      <th>1616</th>\n",
       "      <td>Accueil très chaleureux avec un personnel jeun...</td>\n",
       "      <td>Positive</td>\n",
       "      <td>accueil tr chaleureux avec un personnel jeune ...</td>\n",
       "    </tr>\n",
       "  </tbody>\n",
       "</table>\n",
       "<p>1617 rows × 3 columns</p>\n",
       "</div>"
      ],
      "text/plain": [
       "                                                comment sentiment  \\\n",
       "0     J'ai réservé ma table quelques mois à l'avance...  Positive   \n",
       "1     Que dire... Nicolas sale est un chef d excepti...  Positive   \n",
       "2     Dans une rue tranquille non loin du Panthéon u...  Positive   \n",
       "3     Rien à redire le restaurant est irréprochablem...  Positive   \n",
       "4     Comme avec les autres commentaires nos repas é...  Positive   \n",
       "...                                                 ...       ...   \n",
       "1612  Le service a été rapide et les crêpes très bon...  Positive   \n",
       "1613  Restaurant excellent bon rapport qualité-prix ...  Positive   \n",
       "1614  Incroyable mais vrai 190€ la baguette ! Que di...  Negative   \n",
       "1615  Un japonais assez chic des beaux quartiers. No...  Positive   \n",
       "1616  Accueil très chaleureux avec un personnel jeun...  Positive   \n",
       "\n",
       "                                                  clean  \n",
       "0     j ai reserve ma table quelqu moi a l avance le...  \n",
       "1     que dire nicola sale est un chef d exception q...  \n",
       "2     dan une rue tranquille non loin du pantheon un...  \n",
       "3     rien a redire le restaurant est irreprochablem...  \n",
       "4     comme avec l autr commentair no repa etaient i...  \n",
       "...                                                 ...  \n",
       "1612  le service a ete rapide et l crep tr bonn l pa...  \n",
       "1613  restaurant excellent bon rapport qualite prix ...  \n",
       "1614  incroyable mai vrai 190 la baguette que di je ...  \n",
       "1615  un japonai assez chic d beaux quartier nou y s...  \n",
       "1616  accueil tr chaleureux avec un personnel jeune ...  \n",
       "\n",
       "[1617 rows x 3 columns]"
      ]
     },
     "execution_count": 41,
     "metadata": {},
     "output_type": "execute_result"
    }
   ],
   "source": [
    "df[\"clean\"] = df.comment.apply(clean_text)\n",
    "df"
   ]
  },
  {
   "cell_type": "code",
   "execution_count": 42,
   "id": "emerging-attendance",
   "metadata": {
    "scrolled": true
   },
   "outputs": [
    {
     "data": {
      "text/html": [
       "<div>\n",
       "<style scoped>\n",
       "    .dataframe tbody tr th:only-of-type {\n",
       "        vertical-align: middle;\n",
       "    }\n",
       "\n",
       "    .dataframe tbody tr th {\n",
       "        vertical-align: top;\n",
       "    }\n",
       "\n",
       "    .dataframe thead th {\n",
       "        text-align: right;\n",
       "    }\n",
       "</style>\n",
       "<table border=\"1\" class=\"dataframe\">\n",
       "  <thead>\n",
       "    <tr style=\"text-align: right;\">\n",
       "      <th></th>\n",
       "      <th>sentiment</th>\n",
       "      <th>clean</th>\n",
       "    </tr>\n",
       "  </thead>\n",
       "  <tbody>\n",
       "    <tr>\n",
       "      <th>0</th>\n",
       "      <td>Positive</td>\n",
       "      <td>j ai reserve ma table quelqu moi a l avance le...</td>\n",
       "    </tr>\n",
       "    <tr>\n",
       "      <th>1</th>\n",
       "      <td>Positive</td>\n",
       "      <td>que dire nicola sale est un chef d exception q...</td>\n",
       "    </tr>\n",
       "    <tr>\n",
       "      <th>2</th>\n",
       "      <td>Positive</td>\n",
       "      <td>dan une rue tranquille non loin du pantheon un...</td>\n",
       "    </tr>\n",
       "    <tr>\n",
       "      <th>3</th>\n",
       "      <td>Positive</td>\n",
       "      <td>rien a redire le restaurant est irreprochablem...</td>\n",
       "    </tr>\n",
       "    <tr>\n",
       "      <th>4</th>\n",
       "      <td>Positive</td>\n",
       "      <td>comme avec l autr commentair no repa etaient i...</td>\n",
       "    </tr>\n",
       "    <tr>\n",
       "      <th>...</th>\n",
       "      <td>...</td>\n",
       "      <td>...</td>\n",
       "    </tr>\n",
       "    <tr>\n",
       "      <th>1612</th>\n",
       "      <td>Positive</td>\n",
       "      <td>le service a ete rapide et l crep tr bonn l pa...</td>\n",
       "    </tr>\n",
       "    <tr>\n",
       "      <th>1613</th>\n",
       "      <td>Positive</td>\n",
       "      <td>restaurant excellent bon rapport qualite prix ...</td>\n",
       "    </tr>\n",
       "    <tr>\n",
       "      <th>1614</th>\n",
       "      <td>Negative</td>\n",
       "      <td>incroyable mai vrai 190 la baguette que di je ...</td>\n",
       "    </tr>\n",
       "    <tr>\n",
       "      <th>1615</th>\n",
       "      <td>Positive</td>\n",
       "      <td>un japonai assez chic d beaux quartier nou y s...</td>\n",
       "    </tr>\n",
       "    <tr>\n",
       "      <th>1616</th>\n",
       "      <td>Positive</td>\n",
       "      <td>accueil tr chaleureux avec un personnel jeune ...</td>\n",
       "    </tr>\n",
       "  </tbody>\n",
       "</table>\n",
       "<p>1617 rows × 2 columns</p>\n",
       "</div>"
      ],
      "text/plain": [
       "     sentiment                                              clean\n",
       "0     Positive  j ai reserve ma table quelqu moi a l avance le...\n",
       "1     Positive  que dire nicola sale est un chef d exception q...\n",
       "2     Positive  dan une rue tranquille non loin du pantheon un...\n",
       "3     Positive  rien a redire le restaurant est irreprochablem...\n",
       "4     Positive  comme avec l autr commentair no repa etaient i...\n",
       "...        ...                                                ...\n",
       "1612  Positive  le service a ete rapide et l crep tr bonn l pa...\n",
       "1613  Positive  restaurant excellent bon rapport qualite prix ...\n",
       "1614  Negative  incroyable mai vrai 190 la baguette que di je ...\n",
       "1615  Positive  un japonai assez chic d beaux quartier nou y s...\n",
       "1616  Positive  accueil tr chaleureux avec un personnel jeune ...\n",
       "\n",
       "[1617 rows x 2 columns]"
      ]
     },
     "execution_count": 42,
     "metadata": {},
     "output_type": "execute_result"
    }
   ],
   "source": [
    "df = df.drop('comment', axis=1)\n",
    "df"
   ]
  },
  {
   "cell_type": "code",
   "execution_count": 43,
   "id": "endangered-fields",
   "metadata": {},
   "outputs": [
    {
     "data": {
      "text/plain": [
       "'63.02 / 36.98'"
      ]
     },
     "execution_count": 43,
     "metadata": {},
     "output_type": "execute_result"
    }
   ],
   "source": [
    "\" / \".join([str(round(v*100,2)) for v in df.sentiment.value_counts(normalize=True)])"
   ]
  },
  {
   "cell_type": "code",
   "execution_count": 44,
   "id": "functional-bedroom",
   "metadata": {},
   "outputs": [
    {
     "name": "stdout",
     "output_type": "stream",
     "text": [
      "[448 764]\n",
      "[150 255]\n"
     ]
    }
   ],
   "source": [
    "from sklearn.model_selection import train_test_split\n",
    "\n",
    "X = df.clean.values\n",
    "y = df.sentiment.apply(lambda x: 0 if x==\"Negative\" else 1).values\n",
    "\n",
    "X_train, X_test, y_train, y_test = train_test_split(\n",
    "    X, y, shuffle=True, stratify=y)\n",
    "\n",
    "(_, count_train), (_, count_test) = np.unique(y_train, return_counts=True), np.unique(y_test, return_counts=True)\n",
    "print(count_train)\n",
    "print(count_test)"
   ]
  },
  {
   "cell_type": "markdown",
   "id": "enabling-drilling",
   "metadata": {},
   "source": [
    "### BOW transformation"
   ]
  },
  {
   "cell_type": "code",
   "execution_count": 34,
   "id": "express-monte",
   "metadata": {},
   "outputs": [
    {
     "ename": "NameError",
     "evalue": "name 'X_train' is not defined",
     "output_type": "error",
     "traceback": [
      "\u001b[1;31m---------------------------------------------------------------------------\u001b[0m",
      "\u001b[1;31mNameError\u001b[0m                                 Traceback (most recent call last)",
      "\u001b[1;32m<ipython-input-34-a97829e9cfa7>\u001b[0m in \u001b[0;36m<module>\u001b[1;34m\u001b[0m\n\u001b[0;32m      1\u001b[0m \u001b[1;32mfrom\u001b[0m \u001b[0msklearn\u001b[0m\u001b[1;33m.\u001b[0m\u001b[0mfeature_extraction\u001b[0m\u001b[1;33m.\u001b[0m\u001b[0mtext\u001b[0m \u001b[1;32mimport\u001b[0m \u001b[0mTfidfVectorizer\u001b[0m\u001b[1;33m\u001b[0m\u001b[1;33m\u001b[0m\u001b[0m\n\u001b[0;32m      2\u001b[0m \u001b[1;33m\u001b[0m\u001b[0m\n\u001b[1;32m----> 3\u001b[1;33m \u001b[0mprint\u001b[0m\u001b[1;33m(\u001b[0m\u001b[0mX_train\u001b[0m\u001b[1;33m.\u001b[0m\u001b[0mshape\u001b[0m\u001b[1;33m)\u001b[0m\u001b[1;33m\u001b[0m\u001b[1;33m\u001b[0m\u001b[0m\n\u001b[0m\u001b[0;32m      4\u001b[0m \u001b[1;33m\u001b[0m\u001b[0m\n\u001b[0;32m      5\u001b[0m \u001b[0mvectorizer\u001b[0m \u001b[1;33m=\u001b[0m \u001b[0mTfidfVectorizer\u001b[0m\u001b[1;33m(\u001b[0m\u001b[0mngram_range\u001b[0m\u001b[1;33m=\u001b[0m\u001b[1;33m(\u001b[0m\u001b[1;36m1\u001b[0m\u001b[1;33m,\u001b[0m\u001b[1;36m2\u001b[0m\u001b[1;33m)\u001b[0m\u001b[1;33m)\u001b[0m\u001b[1;33m\u001b[0m\u001b[1;33m\u001b[0m\u001b[0m\n",
      "\u001b[1;31mNameError\u001b[0m: name 'X_train' is not defined"
     ]
    }
   ],
   "source": [
    "from sklearn.feature_extraction.text import TfidfVectorizer\n",
    "\n",
    "print(X_train.shape)\n",
    "\n",
    "vectorizer = TfidfVectorizer(ngram_range=(1,2))\n",
    "X_trans = vectorizer.fit_transform(X_train)\n",
    "print(vectorizer.get_feature_names())\n",
    "\n",
    "print(X_trans.shape)"
   ]
  },
  {
   "cell_type": "markdown",
   "id": "bored-colorado",
   "metadata": {},
   "source": [
    "### Model pipeline"
   ]
  },
  {
   "cell_type": "code",
   "execution_count": 9,
   "id": "demographic-brave",
   "metadata": {},
   "outputs": [
    {
     "name": "stdout",
     "output_type": "stream",
     "text": [
      "Pipeline(steps=[('tfidfvectorizer', TfidfVectorizer()),\n",
      "                ('svc', SVC(C=1000, gamma='auto'))])\n"
     ]
    }
   ],
   "source": [
    "from sklearn.svm import SVC\n",
    "from sklearn.pipeline import make_pipeline\n",
    "clf = make_pipeline(TfidfVectorizer(), SVC(C=1000, gamma='auto'))\n",
    "clf.fit(X_train, y_train)\n",
    "print(clf)"
   ]
  },
  {
   "cell_type": "code",
   "execution_count": 10,
   "id": "furnished-savage",
   "metadata": {},
   "outputs": [],
   "source": [
    "y_pred = clf.predict(X_test)"
   ]
  },
  {
   "cell_type": "code",
   "execution_count": 11,
   "id": "exact-horror",
   "metadata": {
    "scrolled": false
   },
   "outputs": [
    {
     "data": {
      "text/plain": [
       "<AxesSubplot:>"
      ]
     },
     "execution_count": 11,
     "metadata": {},
     "output_type": "execute_result"
    },
    {
     "data": {
      "image/png": "[encoded data removed]",
      "text/plain": [
       "<Figure size 432x432 with 2 Axes>"
      ]
     },
     "metadata": {
      "needs_background": "light"
     },
     "output_type": "display_data"
    }
   ],
   "source": [
    "from sklearn.metrics import confusion_matrix\n",
    "\n",
    "fig, ax = plt.subplots(figsize=(6,6))\n",
    "fig.suptitle(f\"{', '.join([name.title() for name, _ in clf.steps])}\")\n",
    "\n",
    "cm = confusion_matrix(y_test, y_pred)\n",
    "sns.heatmap(np.round(100* cm / cm.sum()), annot=True, ax=ax, fmt='.2f')"
   ]
  },
  {
   "cell_type": "code",
   "execution_count": 31,
   "id": "documented-learning",
   "metadata": {},
   "outputs": [
    {
     "name": "stdout",
     "output_type": "stream",
     "text": [
      "Available metrics\n",
      "dict_keys(['explained_variance', 'r2', 'max_error', 'neg_median_absolute_error', 'neg_mean_absolute_error', 'neg_mean_absolute_percentage_error', 'neg_mean_squared_error', 'neg_mean_squared_log_error', 'neg_root_mean_squared_error', 'neg_mean_poisson_deviance', 'neg_mean_gamma_deviance', 'accuracy', 'top_k_accuracy', 'roc_auc', 'roc_auc_ovr', 'roc_auc_ovo', 'roc_auc_ovr_weighted', 'roc_auc_ovo_weighted', 'balanced_accuracy', 'average_precision', 'neg_log_loss', 'neg_brier_score', 'adjusted_rand_score', 'rand_score', 'homogeneity_score', 'completeness_score', 'v_measure_score', 'mutual_info_score', 'adjusted_mutual_info_score', 'normalized_mutual_info_score', 'fowlkes_mallows_score', 'precision', 'precision_macro', 'precision_micro', 'precision_samples', 'precision_weighted', 'recall', 'recall_macro', 'recall_micro', 'recall_samples', 'recall_weighted', 'f1', 'f1_macro', 'f1_micro', 'f1_samples', 'f1_weighted', 'jaccard', 'jaccard_macro', 'jaccard_micro', 'jaccard_samples', 'jaccard_weighted'])\n",
      "\n",
      "Available parameters\n",
      "dict_keys(['memory', 'steps', 'verbose', 'tfidfvectorizer', 'svc', 'tfidfvectorizer__analyzer', 'tfidfvectorizer__binary', 'tfidfvectorizer__decode_error', 'tfidfvectorizer__dtype', 'tfidfvectorizer__encoding', 'tfidfvectorizer__input', 'tfidfvectorizer__lowercase', 'tfidfvectorizer__max_df', 'tfidfvectorizer__max_features', 'tfidfvectorizer__min_df', 'tfidfvectorizer__ngram_range', 'tfidfvectorizer__norm', 'tfidfvectorizer__preprocessor', 'tfidfvectorizer__smooth_idf', 'tfidfvectorizer__stop_words', 'tfidfvectorizer__strip_accents', 'tfidfvectorizer__sublinear_tf', 'tfidfvectorizer__token_pattern', 'tfidfvectorizer__tokenizer', 'tfidfvectorizer__use_idf', 'tfidfvectorizer__vocabulary', 'svc__C', 'svc__break_ties', 'svc__cache_size', 'svc__class_weight', 'svc__coef0', 'svc__decision_function_shape', 'svc__degree', 'svc__gamma', 'svc__kernel', 'svc__max_iter', 'svc__probability', 'svc__random_state', 'svc__shrinking', 'svc__tol', 'svc__verbose'])\n"
     ]
    }
   ],
   "source": [
    "from sklearn.metrics import SCORERS\n",
    "\n",
    "print(\"Available metrics\")\n",
    "print(SCORERS.keys())\n",
    "\n",
    "print(\"\\nAvailable parameters\")\n",
    "print(make_pipeline(TfidfVectorizer(), SVC()).get_params().keys())"
   ]
  },
  {
   "cell_type": "code",
   "execution_count": 19,
   "id": "ideal-start",
   "metadata": {},
   "outputs": [
    {
     "name": "stdout",
     "output_type": "stream",
     "text": [
      "[0.84210526 0.9122807  0.88888889 0.79310345 0.75409836 0.89795918\n",
      " 0.81632653 0.86206897 0.88       0.87719298]\n",
      "0.8524024324991866\n"
     ]
    }
   ],
   "source": [
    "cvs = cross_val_score(clf, X_test, y_test, cv=10, scoring='f1')\n",
    "print(cvs)\n",
    "print(cvs.mean())"
   ]
  },
  {
   "cell_type": "code",
   "execution_count": 13,
   "id": "configured-aspect",
   "metadata": {},
   "outputs": [
    {
     "name": "stdout",
     "output_type": "stream",
     "text": [
      "              precision    recall  f1-score   support\n",
      "\n",
      "    Negative       0.88      0.75      0.81       150\n",
      "    Positive       0.86      0.94      0.90       255\n",
      "\n",
      "    accuracy                           0.87       405\n",
      "   macro avg       0.87      0.84      0.85       405\n",
      "weighted avg       0.87      0.87      0.86       405\n",
      "\n"
     ]
    }
   ],
   "source": [
    "from sklearn.metrics import classification_report\n",
    "\n",
    "target_names = ['Negative', 'Positive']\n",
    "\n",
    "print(classification_report(y_test, y_pred, target_names=target_names))"
   ]
  },
  {
   "cell_type": "code",
   "execution_count": 14,
   "id": "sorted-elder",
   "metadata": {},
   "outputs": [
    {
     "data": {
      "text/plain": [
       "['..\\\\models\\\\tfidf_svm.joblib']"
      ]
     },
     "execution_count": 14,
     "metadata": {},
     "output_type": "execute_result"
    }
   ],
   "source": [
    "from joblib import dump, load\n",
    "model_path = Path(\"../models\")\n",
    "\n",
    "dump(clf, model_path / 'tfidf_svm.joblib') "
   ]
  },
  {
   "cell_type": "code",
   "execution_count": 43,
   "id": "former-hotel",
   "metadata": {},
   "outputs": [
    {
     "name": "stdout",
     "output_type": "stream",
     "text": [
      "Pipeline(steps=[('tfidfvectorizer', TfidfVectorizer()),\n",
      "                ('svc', SVC(C=17.78279410038923, gamma=1.0))])\n",
      "{'svc__C': 17.78279410038923, 'svc__gamma': 1.0, 'svc__kernel': 'rbf'}\n",
      "0.8770635649423527\n"
     ]
    }
   ],
   "source": [
    "# Grid search \n",
    "from sklearn.model_selection import GridSearchCV\n",
    "\n",
    "parameters = {\n",
    "    'svc__kernel':('linear', 'rbf'), \n",
    "    'svc__C':np.logspace(0, 5, 5),\n",
    "    'svc__gamma': np.logspace(-6, 0, 6)\n",
    "}\n",
    "clf_gs = GridSearchCV(make_pipeline(TfidfVectorizer(), SVC()), parameters, cv=5)\n",
    "clf_gs.fit(X_train, y_train)\n",
    "\n",
    "print(clf_gs.best_estimator_)\n",
    "print(clf_gs.best_params_)\n",
    "print(clf_gs.best_score_)"
   ]
  },
  {
   "cell_type": "code",
   "execution_count": 37,
   "id": "accomplished-grant",
   "metadata": {},
   "outputs": [
    {
     "name": "stdout",
     "output_type": "stream",
     "text": [
      "0 None\n",
      "1 [('tfidfvectorizer', TfidfVectorizer()), ('svc', SVC(C=1000, gamma='auto'))]\n",
      "2 False\n",
      "3 TfidfVectorizer()\n",
      "4 SVC(C=1000, gamma='auto')\n",
      "5 word\n",
      "6 False\n",
      "7 strict\n",
      "8 <class 'numpy.float64'>\n",
      "9 utf-8\n",
      "10 content\n",
      "11 True\n",
      "12 1.0\n",
      "13 None\n",
      "14 1\n",
      "15 (1, 1)\n",
      "16 l2\n",
      "17 None\n",
      "18 True\n",
      "19 None\n",
      "20 None\n",
      "21 False\n",
      "22 (?u)\\b\\w\\w+\\b\n",
      "23 None\n",
      "24 True\n",
      "25 None\n",
      "26 1000\n",
      "27 False\n",
      "28 200\n",
      "29 None\n",
      "30 0.0\n",
      "31 ovr\n",
      "32 3\n",
      "33 auto\n",
      "34 rbf\n",
      "35 -1\n",
      "36 False\n",
      "37 None\n",
      "38 True\n",
      "39 0.001\n",
      "40 False\n"
     ]
    }
   ],
   "source": [
    "for i, parap in enumerate(clf.get_params().values()):\n",
    "    print(i, parap)"
   ]
  },
  {
   "cell_type": "code",
   "execution_count": 41,
   "id": "adverse-venue",
   "metadata": {},
   "outputs": [
    {
     "data": {
      "image/png": "[encoded data removed]",
      "text/plain": [
       "<Figure size 1008x432 with 8 Axes>"
      ]
     },
     "metadata": {
      "needs_background": "light"
     },
     "output_type": "display_data"
    }
   ],
   "source": [
    "from sklearn.model_selection import validation_curve\n",
    "\n",
    "scoring_metrics = [\"precision\", \"recall\", \"f1\", \"accuracy\"]\n",
    "ncols = len(scoring_metrics)\n",
    "params = {'svc__C':[1, 10, 100, 1000],'svc__gamma': np.logspace(-6, 0, 5)}\n",
    "nrows = len(params.keys())\n",
    "\n",
    "fig, axs = plt.subplots(nrows, ncols, figsize=(14, 6))\n",
    "fig.suptitle(\"Validation curves\")\n",
    "\n",
    "for (k, v), axrow in zip(params.items(), axs):\n",
    "    for score_metric, ax in zip(scoring_metrics, axrow):\n",
    "        train_scores, test_scores = validation_curve(\n",
    "            make_pipeline(TfidfVectorizer(), SVC()), X, y, param_name=k, param_range=v,\n",
    "            scoring=score_metric)\n",
    "\n",
    "        ax.semilogx(v, train_scores.mean(axis=1), color='tab:blue', label=\"train\")\n",
    "        ax.fill_between(v, train_scores.mean(axis=1) - train_scores.std(axis=1),\n",
    "                        train_scores.mean(axis=1) + train_scores.std(axis=1), alpha=0.2,\n",
    "                        color='tab:blue', lw=2)\n",
    "        ax.semilogx(v, test_scores.mean(axis=1), color='tab:orange', label=\"test\")\n",
    "        ax.fill_between(v, test_scores.mean(axis=1) - test_scores.std(axis=1),\n",
    "                        test_scores.mean(axis=1) + test_scores.std(axis=1), alpha=0.2,\n",
    "                        color=\"tab:orange\", lw=2)\n",
    "        ax.set_xlabel(k)\n",
    "        ax.set_ylabel(scoring_metric.title())\n",
    "        ax.set_ylim(0.0, 1.1)\n",
    "        ax.legend()\n",
    "\n",
    "plt.tight_layout()\n",
    "plt.show()"
   ]
  },
  {
   "cell_type": "markdown",
   "id": "toxic-hobby",
   "metadata": {},
   "source": [
    "Wan and Gao (2015) applied an ensemble sentiment classification strategy based\n",
    "on Majority Vote principle of multiple classification methods, including Naïve Bayes,\n",
    "SVM, Bayesian Network, C4.5 Decision Tree and Random Forest algorithms, for sentiment classification of twitter data for airline services.\n",
    "\n",
    "Korovkinas, Konstantinas & Danėnas, Paulius & Garšva, Gintautas. (2017). SVM and Naïve Bayes Classification Ensemble Method for Sentiment Analysis. Baltic Journal of Modern Computing. 5. 10.22364/bjmc.2017.5.4.06. "
   ]
  },
  {
   "cell_type": "code",
   "execution_count": 52,
   "id": "challenging-prisoner",
   "metadata": {},
   "outputs": [
    {
     "name": "stdout",
     "output_type": "stream",
     "text": [
      "Pipeline(steps=[('tfidfvectorizer', TfidfVectorizer()),\n",
      "                ('multinomialnb', MultinomialNB())])\n"
     ]
    }
   ],
   "source": [
    "from sklearn.naive_bayes import MultinomialNB\n",
    "\n",
    "clf = make_pipeline(TfidfVectorizer(), MultinomialNB())\n",
    "clf.fit(X_train, y_train)\n",
    "print(clf)\n",
    "\n",
    "y_pred = clf.predict(X_test)"
   ]
  },
  {
   "cell_type": "code",
   "execution_count": 53,
   "id": "sensitive-picture",
   "metadata": {},
   "outputs": [
    {
     "data": {
      "text/plain": [
       "<AxesSubplot:>"
      ]
     },
     "execution_count": 53,
     "metadata": {},
     "output_type": "execute_result"
    },
    {
     "data": {
      "image/png": "[encoded data removed]",
      "text/plain": [
       "<Figure size 432x432 with 2 Axes>"
      ]
     },
     "metadata": {
      "needs_background": "light"
     },
     "output_type": "display_data"
    }
   ],
   "source": [
    "from sklearn.metrics import confusion_matrix\n",
    "\n",
    "fig, ax = plt.subplots(figsize=(6,6))\n",
    "fig.suptitle(f\"{', '.join([name.title() for name, _ in clf.steps])}\")\n",
    "\n",
    "cm = confusion_matrix(y_test, y_pred)\n",
    "sns.heatmap(np.round(100* cm / cm.sum()), annot=True, ax=ax, fmt='.2f')"
   ]
  },
  {
   "cell_type": "code",
   "execution_count": 54,
   "id": "threaded-intervention",
   "metadata": {},
   "outputs": [
    {
     "name": "stdout",
     "output_type": "stream",
     "text": [
      "[0.63414634 0.65853659 0.70731707 0.65853659 0.65853659 0.65\n",
      " 0.65       0.7        0.625      0.65      ]\n",
      "0.6592073170731707\n"
     ]
    }
   ],
   "source": [
    "cvs = cross_val_score(clf, X_test, y_test, cv=10)\n",
    "print(cvs)\n",
    "print(cvs.mean())"
   ]
  },
  {
   "cell_type": "code",
   "execution_count": 55,
   "id": "bizarre-breathing",
   "metadata": {},
   "outputs": [
    {
     "name": "stdout",
     "output_type": "stream",
     "text": [
      "              precision    recall  f1-score   support\n",
      "\n",
      "    Negative       1.00      0.22      0.36       150\n",
      "    Positive       0.69      1.00      0.81       255\n",
      "\n",
      "    accuracy                           0.71       405\n",
      "   macro avg       0.84      0.61      0.59       405\n",
      "weighted avg       0.80      0.71      0.65       405\n",
      "\n"
     ]
    }
   ],
   "source": [
    "from sklearn.metrics import classification_report\n",
    "\n",
    "target_names = ['Negative', 'Positive']\n",
    "\n",
    "print(classification_report(y_test, y_pred, target_names=target_names))"
   ]
  },
  {
   "cell_type": "code",
   "execution_count": 56,
   "id": "floral-semiconductor",
   "metadata": {},
   "outputs": [
    {
     "data": {
      "text/plain": [
       "['..\\\\models\\\\tfidf_nb.joblib']"
      ]
     },
     "execution_count": 56,
     "metadata": {},
     "output_type": "execute_result"
    }
   ],
   "source": [
    "from joblib import dump, load\n",
    "model_path = Path(\"../models\")\n",
    "\n",
    "dump(clf, model_path / 'tfidf_nb.joblib') "
   ]
  },
  {
   "cell_type": "code",
   "execution_count": null,
   "id": "seeing-worship",
   "metadata": {},
   "outputs": [],
   "source": [
    "# Grid search \n",
    "from sklearn.model_selection import GridSearchCV\n",
    "\n",
    "parameters = {'svc__kernel':('linear', 'rbf'), 'svc__C':[1, 10, 100, 1000]}\n",
    "clf_gs = GridSearchCV(make_pipeline(TfidfVectorizer(), SVC()), parameters)\n",
    "clf_gs.fit(X_train, y_train)\n",
    "\n",
    "\n",
    "sorted(clf_gs.cv_results_.keys())"
   ]
  },
  {
   "cell_type": "code",
   "execution_count": 57,
   "id": "defensive-assist",
   "metadata": {},
   "outputs": [
    {
     "data": {
      "text/plain": [
       "{'memory': None,\n",
       " 'steps': [('tfidfvectorizer', TfidfVectorizer()),\n",
       "  ('multinomialnb', MultinomialNB())],\n",
       " 'verbose': False,\n",
       " 'tfidfvectorizer': TfidfVectorizer(),\n",
       " 'multinomialnb': MultinomialNB(),\n",
       " 'tfidfvectorizer__analyzer': 'word',\n",
       " 'tfidfvectorizer__binary': False,\n",
       " 'tfidfvectorizer__decode_error': 'strict',\n",
       " 'tfidfvectorizer__dtype': numpy.float64,\n",
       " 'tfidfvectorizer__encoding': 'utf-8',\n",
       " 'tfidfvectorizer__input': 'content',\n",
       " 'tfidfvectorizer__lowercase': True,\n",
       " 'tfidfvectorizer__max_df': 1.0,\n",
       " 'tfidfvectorizer__max_features': None,\n",
       " 'tfidfvectorizer__min_df': 1,\n",
       " 'tfidfvectorizer__ngram_range': (1, 1),\n",
       " 'tfidfvectorizer__norm': 'l2',\n",
       " 'tfidfvectorizer__preprocessor': None,\n",
       " 'tfidfvectorizer__smooth_idf': True,\n",
       " 'tfidfvectorizer__stop_words': None,\n",
       " 'tfidfvectorizer__strip_accents': None,\n",
       " 'tfidfvectorizer__sublinear_tf': False,\n",
       " 'tfidfvectorizer__token_pattern': '(?u)\\\\b\\\\w\\\\w+\\\\b',\n",
       " 'tfidfvectorizer__tokenizer': None,\n",
       " 'tfidfvectorizer__use_idf': True,\n",
       " 'tfidfvectorizer__vocabulary': None,\n",
       " 'multinomialnb__alpha': 1.0,\n",
       " 'multinomialnb__class_prior': None,\n",
       " 'multinomialnb__fit_prior': True}"
      ]
     },
     "execution_count": 57,
     "metadata": {},
     "output_type": "execute_result"
    }
   ],
   "source": [
    "clf.get_params()"
   ]
  },
  {
   "cell_type": "code",
   "execution_count": null,
   "id": "respective-relaxation",
   "metadata": {},
   "outputs": [],
   "source": []
  }
 ],
 "metadata": {
  "kernelspec": {
   "display_name": "Python 3",
   "language": "python",
   "name": "python3"
  },
  "language_info": {
   "codemirror_mode": {
    "name": "ipython",
    "version": 3
   },
   "file_extension": ".py",
   "mimetype": "text/x-python",
   "name": "python",
   "nbconvert_exporter": "python",
   "pygments_lexer": "ipython3",
   "version": "3.8.5"
  }
 },
 "nbformat": 4,
 "nbformat_minor": 5
}
