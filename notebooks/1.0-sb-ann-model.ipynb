{
 "cells": [
  {
   "cell_type": "code",
   "execution_count": 61,
   "id": "accompanied-magazine",
   "metadata": {},
   "outputs": [],
   "source": [
    "import torch\n",
    "import pandas as pd\n",
    "import torch.nn as nn\n",
    "import torch.nn.functional as F\n",
    "import torch.optim as optim\n",
    "from torch.utils.data import Dataset, random_split, Subset, DataLoader\n",
    "from sklearn.feature_extraction.text import TfidfVectorizer\n",
    "from typing import Tuple"
   ]
  },
  {
   "cell_type": "code",
   "execution_count": 55,
   "id": "differential-probability",
   "metadata": {},
   "outputs": [
    {
     "data": {
      "text/plain": [
       "<torch._C.Generator at 0x21de4963490>"
      ]
     },
     "execution_count": 55,
     "metadata": {},
     "output_type": "execute_result"
    }
   ],
   "source": [
    "torch.manual_seed(32451365)"
   ]
  },
  {
   "cell_type": "code",
   "execution_count": 49,
   "id": "outer-passion",
   "metadata": {},
   "outputs": [],
   "source": [
    "class SimpleNN(nn.Module):\n",
    "    def __init__(self, in_values, out_values):\n",
    "        super().__init__()\n",
    "        self.dense1 = nn.Linear(in_values, 12673)\n",
    "        self.drop1 = nn.Dropout()\n",
    "        self.dense2 = nn.Linear(12673, 4000)\n",
    "        self.drop2 = nn.Dropout()\n",
    "        self.dense3 = nn.Linear(4000, 500)\n",
    "        self.drop3 = nn.Dropout()\n",
    "        self.last_dense = nn.Linear(500, out_values)\n",
    "        \n",
    "    def forward(self, x):\n",
    "        x = F.relu(self.dense1(x))\n",
    "        x = self.drop1(x)\n",
    "        x = F.relu(self.dense2(x))\n",
    "        x = self.drop2(x)\n",
    "        x = F.relu(self.dense3(x)) \n",
    "        x = self.drop3(x) \n",
    "        x = self.last_dense(x)\n",
    "        return x"
   ]
  },
  {
   "cell_type": "code",
   "execution_count": 50,
   "id": "outer-eagle",
   "metadata": {},
   "outputs": [],
   "source": [
    "class CommentDataset(Dataset):\n",
    "    def __init__(self, csv_name):\n",
    "        df = pd.read_csv(csv_name)\n",
    "        \n",
    "        self.labels = sorted(df.y.unique().tolist())\n",
    "        X = TfidfVectorizer().fit_transform(df.x.values)\n",
    "        y = df.y.apply(lambda x: self.labels.index(x)).values\n",
    "        \n",
    "        self.X = torch.from_numpy(X.toarray()).to_sparse()\n",
    "        self.y = torch.from_numpy(y)\n",
    "        \n",
    "    def __len__(self):\n",
    "        return self.y.shape[0]\n",
    "    \n",
    "    def __getitem__(self, idx):\n",
    "        return self.X[idx], self.y[idx]\n",
    "    \n",
    "    def __repr__(self):\n",
    "        fmt_str = [\"Comment dataset for sentiment analysis.\"]\n",
    "        fmt_str.append(f\"Number of comments: {self.__len__()}\")\n",
    "        fmt_str.append(f\"Number of words: {self.X.shape[1]}\")\n",
    "        fmt_str.append(f\"Labels: {self.labels}\")\n",
    "        return '\\n'.join(fmt_str)"
   ]
  },
  {
   "cell_type": "code",
   "execution_count": 51,
   "id": "norman-niagara",
   "metadata": {},
   "outputs": [
    {
     "name": "stdout",
     "output_type": "stream",
     "text": [
      "Comment dataset for sentiment analysis.\n",
      "Number of comments: 1617\n",
      "Number of words: 5728\n",
      "Labels: ['Negative', 'Positive']\n"
     ]
    }
   ],
   "source": [
    "ds = CommentDataset(\"../data/processed/comments_clean.csv\")\n",
    "print(ds)"
   ]
  },
  {
   "cell_type": "code",
   "execution_count": 52,
   "id": "measured-pitch",
   "metadata": {},
   "outputs": [
    {
     "name": "stdout",
     "output_type": "stream",
     "text": [
      "tensor(1)\n",
      "torch.Size([5728])\n"
     ]
    }
   ],
   "source": [
    "text, lab = ds[0]\n",
    "print(lab)\n",
    "print(text.shape)"
   ]
  },
  {
   "cell_type": "code",
   "execution_count": 57,
   "id": "tested-illinois",
   "metadata": {},
   "outputs": [],
   "source": [
    "def split_dataset(ds: Dataset,\n",
    "                  train_size: float = 0.8) -> Tuple[Subset, Subset]:\n",
    "    \"\"\"Function taking an image folder and splitting it in a train and test set.\n",
    "    To achieve random results, we recommend to set up the seed for\n",
    "    reproductibility with `torch.manual_seed(seed)`.\n",
    "    The splitting ratio can be the number of samples (int) or the dataset\n",
    "    proportion (flaot between 0 and 1).\n",
    "    Args:\n",
    "        ds (Dataset): The dataset to be split\n",
    "        train_size (float, optional): The number of samples or the\n",
    "        proportion of the dataset. Defaults to 0.9.\n",
    "    Returns:\n",
    "        Tuple[Subset, Subset]: The training and validation subsets.\n",
    "    \"\"\"\n",
    "\n",
    "    if isinstance(train_size, float):\n",
    "        train_size = int(len(ds)*train_size)\n",
    "    train_ds, val_ds = random_split(ds, [train_size, len(ds)-train_size])\n",
    "    return train_ds, val_ds"
   ]
  },
  {
   "cell_type": "code",
   "execution_count": 62,
   "id": "valuable-saturday",
   "metadata": {},
   "outputs": [
    {
     "data": {
      "text/plain": [
       "(1293, 324)"
      ]
     },
     "execution_count": 62,
     "metadata": {},
     "output_type": "execute_result"
    }
   ],
   "source": [
    "train_ds, test_ds = split_dataset(ds)\n",
    "len(train_ds), len(test_ds)"
   ]
  },
  {
   "cell_type": "code",
   "execution_count": 63,
   "id": "chronic-literature",
   "metadata": {},
   "outputs": [
    {
     "data": {
      "text/plain": [
       "256"
      ]
     },
     "execution_count": 63,
     "metadata": {},
     "output_type": "execute_result"
    }
   ],
   "source": [
    "32 * 2 * 2 * 2"
   ]
  },
  {
   "cell_type": "code",
   "execution_count": 67,
   "id": "current-robin",
   "metadata": {},
   "outputs": [
    {
     "data": {
      "text/plain": [
       "(21, 6)"
      ]
     },
     "execution_count": 67,
     "metadata": {},
     "output_type": "execute_result"
    }
   ],
   "source": [
    "train_dl = DataLoader(train_ds, batch_size=256)\n",
    "test_dl = DataLoader(test_ds, batch_size=64)\n",
    "len(train_dl),len(test_dl)"
   ]
  },
  {
   "cell_type": "code",
   "execution_count": 42,
   "id": "motivated-mason",
   "metadata": {},
   "outputs": [
    {
     "ename": "TypeError",
     "evalue": "__init__() missing 2 required positional arguments: 'in_values' and 'out_values'",
     "output_type": "error",
     "traceback": [
      "\u001b[1;31m---------------------------------------------------------------------------\u001b[0m",
      "\u001b[1;31mTypeError\u001b[0m                                 Traceback (most recent call last)",
      "\u001b[1;32m<ipython-input-42-746594c3d2c3>\u001b[0m in \u001b[0;36m<module>\u001b[1;34m\u001b[0m\n\u001b[1;32m----> 1\u001b[1;33m \u001b[0mmodel\u001b[0m \u001b[1;33m=\u001b[0m \u001b[0mSimpleNN\u001b[0m\u001b[1;33m(\u001b[0m\u001b[1;33m)\u001b[0m\u001b[1;33m\u001b[0m\u001b[1;33m\u001b[0m\u001b[0m\n\u001b[0m\u001b[0;32m      2\u001b[0m \u001b[0mcriterion\u001b[0m \u001b[1;33m=\u001b[0m \u001b[0mnn\u001b[0m\u001b[1;33m.\u001b[0m\u001b[0mCrossEntropyLoss\u001b[0m\u001b[1;33m(\u001b[0m\u001b[1;33m)\u001b[0m\u001b[1;33m\u001b[0m\u001b[1;33m\u001b[0m\u001b[0m\n\u001b[0;32m      3\u001b[0m \u001b[0moptimizer\u001b[0m \u001b[1;33m=\u001b[0m \u001b[0moptim\u001b[0m\u001b[1;33m.\u001b[0m\u001b[0mAdam\u001b[0m\u001b[1;33m(\u001b[0m\u001b[0mmodel\u001b[0m\u001b[1;33m.\u001b[0m\u001b[0mparameters\u001b[0m\u001b[1;33m(\u001b[0m\u001b[1;33m)\u001b[0m\u001b[1;33m,\u001b[0m \u001b[0mlr\u001b[0m\u001b[1;33m=\u001b[0m\u001b[1;36m1e-3\u001b[0m\u001b[1;33m)\u001b[0m\u001b[1;33m\u001b[0m\u001b[1;33m\u001b[0m\u001b[0m\n\u001b[0;32m      4\u001b[0m \u001b[1;33m\u001b[0m\u001b[0m\n\u001b[0;32m      5\u001b[0m \u001b[0mdevice\u001b[0m \u001b[1;33m=\u001b[0m \u001b[0mtorch\u001b[0m\u001b[1;33m.\u001b[0m\u001b[0mdevice\u001b[0m\u001b[1;33m(\u001b[0m\u001b[1;34m\"cuda\"\u001b[0m \u001b[1;32mif\u001b[0m \u001b[0mtorch\u001b[0m\u001b[1;33m.\u001b[0m\u001b[0mcuda\u001b[0m\u001b[1;33m.\u001b[0m\u001b[0mis_available\u001b[0m\u001b[1;33m(\u001b[0m\u001b[1;33m)\u001b[0m \u001b[1;32melse\u001b[0m \u001b[1;34m\"cpu\"\u001b[0m\u001b[1;33m)\u001b[0m\u001b[1;33m\u001b[0m\u001b[1;33m\u001b[0m\u001b[0m\n",
      "\u001b[1;31mTypeError\u001b[0m: __init__() missing 2 required positional arguments: 'in_values' and 'out_values'"
     ]
    }
   ],
   "source": [
    "model = SimpleNN()\n",
    "criterion = nn.CrossEntropyLoss()\n",
    "optimizer = optim.Adam(model.parameters(), lr=1e-3)\n",
    "\n",
    "device = torch.device(\"cuda\" if torch.cuda.is_available() else \"cpu\")\n",
    "print(device)"
   ]
  },
  {
   "cell_type": "code",
   "execution_count": null,
   "id": "abandoned-clearing",
   "metadata": {},
   "outputs": [],
   "source": [
    "model = Sequential()\n",
    "\n",
    "model.add(Dense(units=12673,activation='relu'))\n",
    "model.add(Dropout(0.5))\n",
    "\n",
    "model.add(Dense(units=4000,activation='relu'))\n",
    "model.add(Dropout(0.5))\n",
    "\n",
    "model.add(Dense(units=500,activation='relu'))\n",
    "model.add(Dropout(0.5))\n",
    "\n",
    "model.add(Dense(units=3, activation='softmax'))\n",
    "\n",
    "opt=tf.keras.optimizers.Adam(learning_rate=0.001)\n",
    "model.compile(loss='categorical_crossentropy', optimizer=opt, metrics=['accuracy'])\n",
    "\n",
    "early_stop = EarlyStopping(monitor='val_loss', mode='min', verbose=1, patience=2)\n",
    "\n"
   ]
  },
  {
   "cell_type": "code",
   "execution_count": 2,
   "id": "stuck-activation",
   "metadata": {},
   "outputs": [
    {
     "data": {
      "text/plain": [
       "6336.5"
      ]
     },
     "execution_count": 2,
     "metadata": {},
     "output_type": "execute_result"
    }
   ],
   "source": [
    "12673 / 2"
   ]
  },
  {
   "cell_type": "code",
   "execution_count": null,
   "id": "welsh-import",
   "metadata": {},
   "outputs": [],
   "source": [
    "model.fit(x=X_train, y=y_train, batch_size=256, epochs=100, validation_data=(X_test, y_test), verbose=1, callbacks=early_stop)"
   ]
  }
 ],
 "metadata": {
  "kernelspec": {
   "display_name": "Python 3",
   "language": "python",
   "name": "python3"
  },
  "language_info": {
   "codemirror_mode": {
    "name": "ipython",
    "version": 3
   },
   "file_extension": ".py",
   "mimetype": "text/x-python",
   "name": "python",
   "nbconvert_exporter": "python",
   "pygments_lexer": "ipython3",
   "version": "3.9.2"
  }
 },
 "nbformat": 4,
 "nbformat_minor": 5
}
